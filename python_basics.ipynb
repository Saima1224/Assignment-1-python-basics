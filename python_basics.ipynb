{
  "nbformat": 4,
  "nbformat_minor": 0,
  "metadata": {
    "colab": {
      "provenance": []
    },
    "kernelspec": {
      "name": "python3",
      "display_name": "Python 3"
    },
    "language_info": {
      "name": "python"
    }
  },
  "cells": [
    {
      "cell_type": "code",
      "execution_count": null,
      "metadata": {
        "id": "s6tlG6H9upxy"
      },
      "outputs": [],
      "source": []
    },
    {
      "cell_type": "markdown",
      "source": [
        "1.\tWhat is Python, and why is it popular?\n",
        "Ans: Python is a popular programming language. It was created by Guido van Rossum, and released in 1991. It is used for: web development (server-side), software development, mathematics, system scripting. It is popular because Python works on different platforms (Windows, Mac, Linux, Raspberry Pi, etc). Python has a simple syntax similar to the English language. Python has syntax that allows developers to write programs with fewer lines than some other programming languages. Python runs on an interpreter system, meaning that code can be executed as soon as it is written. This means that prototyping can be very quick. Python can be treated in a procedural way, an object-oriented way or a functional way.\n",
        "\n",
        "2.\tWhat is an interpreter in Python?\n",
        "Ans: An interpreter is a program that reads and executes Python code line by line, translating it into machine-readable instructions and then executing them.\n",
        "\n",
        "3.\tWhat are pre-defined keywords in Python?\n",
        "Ans: Keywords in Python are predefined reserved words with special meanings so the interpreter can understand them. They perform specific tasks in Python programming and are a part of its syntax. They are listed below:\n",
        "Print (), type (), False, True, None, and, as, assert, async, await, break, class, continue, def, del, elif, else, except,finally, for, from, global, if, import, in, is, lambda, nonlocal, not, or, pass, raise, return, try, while, with, and yield.\n",
        "\n",
        "4.\tCan keywords be used as variable names:\n",
        "Ans: No, keywords cannot be used as variable names.\n",
        "\n",
        "5.\tWhat is mutability in Python?\n",
        "Ans: Mutability: Mutable objects are objects whose value can be changed after creation. List is a type of mutable object/supports item assignment. Modifying a mutable object will affect all references to that object.\n",
        "\n",
        "6.\tWhy are lists mutable, but tuples are immutable?\n",
        "Ans: Tuples use parentheses instead of square brackets, and the items in tuples cannot be modified. Some values cannot be changed in a word. For example, the name is “Saima”. Now if we want to change “S” to “M”, this cannot be done as it is a fixed name. Lists are considered mutable data types because they can be modified or changed after they are created. This means that the elements of a list can be added, removed, or modified without creating a new list. Mutable (List): You can modify a list by adding, removing, or changing elements. Immutable (Tuple): Once created, you cannot change, add, or remove elements in a tuple.\n",
        "\n",
        "7.\tWhat is the difference between “==” and “is” operators in Python?\n",
        "Ans: In Python, == checks for value equality (if two objects have the same content), while is checks for object identity (if two variables point to the same object in memory).  Example for ==: 1 == 1 and 'hello' == 'hello' will both return True. Example for ‘is’: x = [1, 2, 3]; y = x; z = [1, 2, 3]; x is y will return True, while x is z will return False because y and x are the same object, while z is a different object with the same value.\n",
        "\n",
        "8.\tWhat are logical operators in Python?\n",
        "Ans: In Python, logical operators, and, or, and not, are used to combine or reverse boolean expressions, returning True or False based on the truth values of the operands. and: Returns True only if both operands are True; otherwise, it returns False. or: Returns True if at least one operand is True; it returns False only if both operands are False. not: Reverses the truth value of its operand; if the operand is True, not returns False, and vice versa.\n",
        "\n",
        "9.\tWhat is type casting in Python?\n",
        "Ans: Type casting in Python is the process of converting one data type into another. It can be done using built-in functions such as:\n",
        "Implicit Type Casting (Automatic Conversion)\n",
        "Python automatically converts one data type to another when needed.\n",
        "Explicit Type Casting (Manual Conversion)\n",
        "a) int() - Convert to Integer\n",
        "b) float() - Convert to Float\n",
        "c) str() - Convert to String\n",
        "d) list(), tuple(), set() - Convert to Collections\n",
        "Type casting helps in handling different data types efficiently in Python.\n",
        "\n",
        "10.\tWhat is the difference between implicit and explicit type casting?\n",
        "Implicit type casting:\n",
        "Defination: Automatic conversion of a smaller data type to a larger data type by Python.\n",
        "Who performs it: Python interpreter handles it.\n",
        "Risk of data loss: No risk, as Python safely converts types.\n",
        "Example: int → float conversion happens automatically.\n",
        "\n",
        "Explicit type casting:\n",
        "Defination: Manual conversion of one data type to another using built-in functions.\n",
        "Who performs it: The programmer explicitly applies conversion.\n",
        "Risk of data loss: Possible risk, especially when converting from a larger type to a smaller one.\n",
        "Example: Using int(), float(), str(), etc., to change types.\n",
        "\n",
        "11.\tWhat is the purpose of conditional statements in Python?\n",
        "Ans: Conditional statements in Python allow a program to make decisions based on certain conditions. They help control the flow of execution by executing different blocks of code depending on whether a condition is True or False.\n",
        "Why Use Conditional Statements?\n",
        "Decision Making – Execute specific code only when certain conditions are met.\n",
        "Control Flow – Direct the program to different execution paths based on conditions.\n",
        "Avoid Redundant Code – Prevent unnecessary execution of code blocks.\n",
        "Enhance Program Logic – Implement real-world logic, such as validation, loops, and menu-driven programs.\n",
        "\n",
        "12.\tHow does the elif statement work?\n",
        "Ans: The elif (short for else if) statement allows you to check multiple conditions in a sequence. If the first condition is False, it moves to the next elif. If none of the conditions are True, the else block executes (if provided).\n",
        "if condition1:\n",
        "    # Executes if condition1 is True\n",
        "elif condition2:\n",
        "    # Executes if condition1 is False and condition2 is True\n",
        "elif condition3:\n",
        "    # Executes if condition2 is False and condition3 is True\n",
        "else:\n",
        "    # Executes if all conditions are False\n",
        "\n",
        "13.\tWhat is the difference between for and while loops?\n",
        "Ans: for Loop (Iterates Over a Sequence)\n",
        "•\tUsed when you know how many times the loop should run.\n",
        "•\tIterates over elements of a sequence like list, range, or string.\n",
        "fruits = [\"Apple\", \"Banana\", \"Cherry\"]\n",
        "for fruit in fruits:\n",
        "    print(fruit)\n",
        "Output:\n",
        "Apple\n",
        "Banana\n",
        "Cherry\n",
        "while Loop (Runs Until a Condition is False)\n",
        "•\tUsed when you don’t know beforehand how many times the loop should run.\n",
        "•\tThe loop continues executing as long as the condition is True.\n",
        "x = 0\n",
        "while x < 5:  # Runs until x reaches 5\n",
        "    print(x)\n",
        "    x += 1  # Increment x\n",
        "Output:\n",
        "0\n",
        "1\n",
        "2\n",
        "3\n",
        "4\n",
        "\n",
        "14.\tDescribe a scenario where a while loop is more suitable than a for loop\n",
        "Ans: A while loop is more suitable than a for loop when the number of iterations is unknown in advance. One such scenario is implementing a user login system, where a user must enter the correct password to gain access.\n",
        "Example:\n",
        "correct_password = \"secure123\"\n",
        "user_input = \"\"\n",
        "\n",
        "while user_input != correct_password:\n",
        "    user_input = input(\"Enter password: \")\n",
        "    if user_input == correct_password:\n",
        "        print(\"Access Granted!\")\n",
        "    else:\n",
        "        print(\"Incorrect password. Try again.\")\n",
        "Why Use while Instead of for?\n",
        "1.\tUnknown number of attempts – The user may enter the wrong password multiple times, so we can't predetermine the number of iterations.\n",
        "2.\tCondition-based termination – The loop stops only when the correct password is entered.\n",
        "3.\tUser-dependent flow – Unlike a for loop, which runs a set number of times, the while loop keeps running until a condition is met.\n",
        "\n",
        "\n",
        "\n"
      ],
      "metadata": {
        "id": "rv7BqRCzuq0M"
      }
    },
    {
      "cell_type": "markdown",
      "source": [],
      "metadata": {
        "id": "qVmiLAbZxqvT"
      }
    },
    {
      "cell_type": "markdown",
      "source": [
        "1. Write a Python program to print \"Hello, World!"
      ],
      "metadata": {
        "id": "-PJSSNMixtmr"
      }
    },
    {
      "cell_type": "code",
      "source": [
        "print(\"Hello, World!\")\n"
      ],
      "metadata": {
        "colab": {
          "base_uri": "https://localhost:8080/"
        },
        "id": "BZwqwK7Xxu1c",
        "outputId": "3ec679fc-bcfd-4b81-eb9c-76015b707fa4"
      },
      "execution_count": 1,
      "outputs": [
        {
          "output_type": "stream",
          "name": "stdout",
          "text": [
            "Hello, World!\n"
          ]
        }
      ]
    },
    {
      "cell_type": "markdown",
      "source": [
        "2. Write a Python program that displays your name and age"
      ],
      "metadata": {
        "id": "RRgzkwEfyGn8"
      }
    },
    {
      "cell_type": "code",
      "source": [
        "name = \"Saima\"\n",
        "age = 32\n",
        "\n",
        "print(\"My name is\", name)\n",
        "print(\"I am\", age, \"years old\")"
      ],
      "metadata": {
        "colab": {
          "base_uri": "https://localhost:8080/"
        },
        "id": "UE_HRt8KyOXy",
        "outputId": "c6cd9fe7-5e98-4338-ca4b-4eff4abc006b"
      },
      "execution_count": 2,
      "outputs": [
        {
          "output_type": "stream",
          "name": "stdout",
          "text": [
            "My name is Saima\n",
            "I am 32 years old\n"
          ]
        }
      ]
    },
    {
      "cell_type": "markdown",
      "source": [
        "3. Write code to print all the pre-defined keywords in Python using the keyword library\n",
        "\n"
      ],
      "metadata": {
        "id": "NwL2v5h7yZZf"
      }
    },
    {
      "cell_type": "code",
      "source": [
        "import keyword\n",
        "\n",
        "keywords = keyword.kwlist\n",
        "\n",
        "print(\"Python Keywords:\")\n",
        "for kw in keywords:\n",
        "    print(kw)"
      ],
      "metadata": {
        "colab": {
          "base_uri": "https://localhost:8080/"
        },
        "id": "D5jGSeEzx66E",
        "outputId": "729bf844-0d3a-479d-9fb5-6e6e65392cd8"
      },
      "execution_count": 3,
      "outputs": [
        {
          "output_type": "stream",
          "name": "stdout",
          "text": [
            "Python Keywords:\n",
            "False\n",
            "None\n",
            "True\n",
            "and\n",
            "as\n",
            "assert\n",
            "async\n",
            "await\n",
            "break\n",
            "class\n",
            "continue\n",
            "def\n",
            "del\n",
            "elif\n",
            "else\n",
            "except\n",
            "finally\n",
            "for\n",
            "from\n",
            "global\n",
            "if\n",
            "import\n",
            "in\n",
            "is\n",
            "lambda\n",
            "nonlocal\n",
            "not\n",
            "or\n",
            "pass\n",
            "raise\n",
            "return\n",
            "try\n",
            "while\n",
            "with\n",
            "yield\n"
          ]
        }
      ]
    },
    {
      "cell_type": "markdown",
      "source": [
        "4. Write a program that checks if a given word is a Python keyword\n"
      ],
      "metadata": {
        "id": "-WSPRuBby1-V"
      }
    },
    {
      "cell_type": "code",
      "source": [
        "import keyword\n",
        "\n",
        "# Get user input\n",
        "word = input(\"Enter a word: \")\n",
        "\n",
        "# Check if it's a keyword\n",
        "if keyword.iskeyword(word):\n",
        "    print(f\"'{word}' is a Python keyword.\")\n",
        "else:\n",
        "    print(f\"'{word}' is NOT a Python keyword.\")"
      ],
      "metadata": {
        "colab": {
          "base_uri": "https://localhost:8080/"
        },
        "id": "uwCo-pN3y4ly",
        "outputId": "c5c56547-87c5-4ccc-9d5f-16d0c551d99d"
      },
      "execution_count": 5,
      "outputs": [
        {
          "output_type": "stream",
          "name": "stdout",
          "text": [
            "Enter a word: list\n",
            "'list' is NOT a Python keyword.\n"
          ]
        }
      ]
    },
    {
      "cell_type": "code",
      "source": [
        "import keyword\n",
        "\n",
        "# Get user input\n",
        "word = input(\"Enter a word: \")\n",
        "\n",
        "# Check if it's a keyword\n",
        "if keyword.iskeyword(word):\n",
        "    print(f\"'{word}' is a Python keyword.\")\n",
        "else:\n",
        "    print(f\"'{word}' is NOT a Python keyword.\")"
      ],
      "metadata": {
        "colab": {
          "base_uri": "https://localhost:8080/"
        },
        "id": "DBxYzoYDzPE-",
        "outputId": "9649d76a-63c6-42a3-895b-15fc19fa0b6a"
      },
      "execution_count": 6,
      "outputs": [
        {
          "output_type": "stream",
          "name": "stdout",
          "text": [
            "Enter a word: while\n",
            "'while' is a Python keyword.\n"
          ]
        }
      ]
    },
    {
      "cell_type": "markdown",
      "source": [
        "4. Create a list and tuple in Python, and demonstrate how attempting to change an element works differently for each."
      ],
      "metadata": {
        "id": "srUhPC9AzaUh"
      }
    },
    {
      "cell_type": "code",
      "source": [
        "my_list = [1, 2, 3]\n",
        "my_tuple = (1, 2, 3)\n",
        "my_list[0] = 100\n",
        "print (my_list)\n",
        "my_tuple[0] = 100\n",
        "print (my_tuple)"
      ],
      "metadata": {
        "colab": {
          "base_uri": "https://localhost:8080/",
          "height": 211
        },
        "id": "YD1uZ8eEzbz0",
        "outputId": "80daba5e-25a0-4d78-d8b1-e1207228eefa"
      },
      "execution_count": 9,
      "outputs": [
        {
          "output_type": "stream",
          "name": "stdout",
          "text": [
            "[100, 2, 3]\n"
          ]
        },
        {
          "output_type": "error",
          "ename": "TypeError",
          "evalue": "'tuple' object does not support item assignment",
          "traceback": [
            "\u001b[0;31m---------------------------------------------------------------------------\u001b[0m",
            "\u001b[0;31mTypeError\u001b[0m                                 Traceback (most recent call last)",
            "\u001b[0;32m<ipython-input-9-5140bb6f8060>\u001b[0m in \u001b[0;36m<cell line: 0>\u001b[0;34m()\u001b[0m\n\u001b[1;32m      3\u001b[0m \u001b[0mmy_list\u001b[0m\u001b[0;34m[\u001b[0m\u001b[0;36m0\u001b[0m\u001b[0;34m]\u001b[0m \u001b[0;34m=\u001b[0m \u001b[0;36m100\u001b[0m\u001b[0;34m\u001b[0m\u001b[0;34m\u001b[0m\u001b[0m\n\u001b[1;32m      4\u001b[0m \u001b[0mprint\u001b[0m \u001b[0;34m(\u001b[0m\u001b[0mmy_list\u001b[0m\u001b[0;34m)\u001b[0m\u001b[0;34m\u001b[0m\u001b[0;34m\u001b[0m\u001b[0m\n\u001b[0;32m----> 5\u001b[0;31m \u001b[0mmy_tuple\u001b[0m\u001b[0;34m[\u001b[0m\u001b[0;36m0\u001b[0m\u001b[0;34m]\u001b[0m \u001b[0;34m=\u001b[0m \u001b[0;36m100\u001b[0m\u001b[0;34m\u001b[0m\u001b[0;34m\u001b[0m\u001b[0m\n\u001b[0m\u001b[1;32m      6\u001b[0m \u001b[0mprint\u001b[0m \u001b[0;34m(\u001b[0m\u001b[0mmy_tuple\u001b[0m\u001b[0;34m)\u001b[0m\u001b[0;34m\u001b[0m\u001b[0;34m\u001b[0m\u001b[0m\n",
            "\u001b[0;31mTypeError\u001b[0m: 'tuple' object does not support item assignment"
          ]
        }
      ]
    },
    {
      "cell_type": "code",
      "source": [],
      "metadata": {
        "id": "OgML5XRbzqZU"
      },
      "execution_count": null,
      "outputs": []
    },
    {
      "cell_type": "markdown",
      "source": [
        "6. Write a function to demonstrate the behavior of mutable and immutable arguments"
      ],
      "metadata": {
        "id": "xwIx-Gglz27P"
      }
    },
    {
      "cell_type": "code",
      "source": [
        "def modify_values(immutable_arg, mutable_arg):\n",
        "    # Trying to modify immutable argument (int)\n",
        "    immutable_arg += 10  # Creates a new integer object\n",
        "\n",
        "    # Trying to modify mutable argument (list)\n",
        "    mutable_arg.append(4)  # Modifies the existing list\n",
        "\n",
        "    print(\"Inside Function:\")\n",
        "    print(\"Immutable Argument:\", immutable_arg)  # New object created\n",
        "    print(\"Mutable Argument:\", mutable_arg)  # Original list is modified\n",
        "\n",
        "# Define immutable and mutable arguments\n",
        "immutable_num = 5\n",
        "mutable_list = [1, 2, 3]\n",
        "\n",
        "# Call function\n",
        "modify_values(immutable_num, mutable_list)\n",
        "\n",
        "# Check values after function call\n",
        "print(\"\\nOutside Function:\")\n",
        "print(\"Immutable Argument:\", immutable_num)  # Still 5 (unchanged)\n",
        "print(\"Mutable Argument:\", mutable_list)  # Modified list: [1, 2, 3, 4]"
      ],
      "metadata": {
        "colab": {
          "base_uri": "https://localhost:8080/"
        },
        "id": "GkDLKLlS0aUm",
        "outputId": "46baba83-35c1-4350-9a21-0f23d13e71f7"
      },
      "execution_count": 12,
      "outputs": [
        {
          "output_type": "stream",
          "name": "stdout",
          "text": [
            "Inside Function:\n",
            "Immutable Argument: 15\n",
            "Mutable Argument: [1, 2, 3, 4]\n",
            "\n",
            "Outside Function:\n",
            "Immutable Argument: 5\n",
            "Mutable Argument: [1, 2, 3, 4]\n"
          ]
        }
      ]
    },
    {
      "cell_type": "markdown",
      "source": [
        "7. Write a program that performs basic arithmetic operations on two user-input numbers"
      ],
      "metadata": {
        "id": "rQc6kGIs470k"
      }
    },
    {
      "cell_type": "code",
      "source": [
        "num1 = float(input(\"Enter first number: \"))\n",
        "num2 = float(input(\"Enter second number: \"))\n",
        "\n",
        "# Perform arithmetic operations\n",
        "addition = num1 + num2\n",
        "subtraction = num1 - num2\n",
        "multiplication = num1 * num2\n",
        "division = num1 / num2\n",
        "floor_division = num1 // num2\n",
        "modulo = num1 % num2\n",
        "exponentiation = num1 ** num2\n",
        "print(\"\\nResults:\")\n",
        "print(f\"Addition: {num1} + {num2} = {addition}\")\n",
        "print(f\"Subtraction: {num1} - {num2} = {subtraction}\")\n",
        "print(f\"Multiplication: {num1} * {num2} = {multiplication}\")\n",
        "print(f\"Division: {num1} / {num2} = {division}\")\n",
        "print(f\"Floor Division: {num1} // {num2} = {floor_division}\")\n",
        "print(f\"Modulo: {num1} % {num2} = {modulo}\")\n",
        "print(f\"Exponentiation: {num1} ** {num2} = {exponentiation}\")"
      ],
      "metadata": {
        "colab": {
          "base_uri": "https://localhost:8080/"
        },
        "id": "0EuYcdKg4-tt",
        "outputId": "615c915e-a445-4f97-c892-f779355de0c9"
      },
      "execution_count": 18,
      "outputs": [
        {
          "output_type": "stream",
          "name": "stdout",
          "text": [
            "Enter first number: 10\n",
            "Enter second number: 2\n",
            "\n",
            "Results:\n",
            "Addition: 10.0 + 2.0 = 12.0\n",
            "Subtraction: 10.0 - 2.0 = 8.0\n",
            "Multiplication: 10.0 * 2.0 = 20.0\n",
            "Division: 10.0 / 2.0 = 5.0\n",
            "Floor Division: 10.0 // 2.0 = 5.0\n",
            "Modulo: 10.0 % 2.0 = 0.0\n",
            "Exponentiation: 10.0 ** 2.0 = 100.0\n"
          ]
        }
      ]
    },
    {
      "cell_type": "markdown",
      "source": [
        "8. Write a program to demonstrate the use of logical operators\n"
      ],
      "metadata": {
        "id": "rthOFymO6Whm"
      }
    },
    {
      "cell_type": "code",
      "source": [
        "# Get user input\n",
        "num1 = int(input(\"Enter first number: \"))\n",
        "num2 = int(input(\"Enter second number: \"))\n",
        "\n",
        "# Logical AND\n",
        "print(\"\\nLogical AND:\")\n",
        "print(f\"Both numbers are greater than 0: {(num1 > 0) and (num2 > 0)}\")\n",
        "\n",
        "# Logical OR\n",
        "print(\"\\nLogical OR:\")\n",
        "print(f\"At least one number is greater than 0: {(num1 > 0) or (num2 > 0)}\")\n",
        "\n",
        "# Logical NOT\n",
        "print(\"\\nLogical NOT:\")\n",
        "print(f\"First number is NOT positive: {not (num1 > 0)}\")"
      ],
      "metadata": {
        "colab": {
          "base_uri": "https://localhost:8080/"
        },
        "id": "urvZZ-HS7yU7",
        "outputId": "bb554b1a-9d51-4116-bdb9-dcbda1ff31da"
      },
      "execution_count": 19,
      "outputs": [
        {
          "output_type": "stream",
          "name": "stdout",
          "text": [
            "Enter first number: 2\n",
            "Enter second number: 3\n",
            "\n",
            "Logical AND:\n",
            "Both numbers are greater than 0: True\n",
            "\n",
            "Logical OR:\n",
            "At least one number is greater than 0: True\n",
            "\n",
            "Logical NOT:\n",
            "First number is NOT positive: False\n"
          ]
        }
      ]
    },
    {
      "cell_type": "markdown",
      "source": [
        "9. Write a Python program to convert user input from string to integer, float, and boolean types"
      ],
      "metadata": {
        "id": "VTybKPbw7_K3"
      }
    },
    {
      "cell_type": "code",
      "source": [
        "\n",
        "# Get user input as a string\n",
        "user_input = input(\"Enter a value: \")\n",
        "\n",
        "# Convert to integer (if possible)\n",
        "try:\n",
        "    int_value = int(user_input)\n",
        "    print(f\"Integer Conversion: {int_value} (Type: {type(int_value)})\")\n",
        "except ValueError:\n",
        "    print(\"Cannot convert to Integer.\")\n",
        "\n",
        "# Convert to float (if possible)\n",
        "try:\n",
        "    float_value = float(user_input)\n",
        "    print(f\"Float Conversion: {float_value} (Type: {type(float_value)})\")\n",
        "except ValueError:\n",
        "    print(\"Cannot convert to Float.\")\n",
        "\n",
        "# Convert to boolean\n",
        "bool_value = bool(user_input)  # Any non-empty string is True\n",
        "print(f\"Boolean Conversion: {bool_value} (Type: {type(bool_value)})\")"
      ],
      "metadata": {
        "colab": {
          "base_uri": "https://localhost:8080/"
        },
        "id": "FSkb2KvZ8A0Y",
        "outputId": "fb2768a8-d0d2-4304-87b3-830627f347d5"
      },
      "execution_count": 22,
      "outputs": [
        {
          "output_type": "stream",
          "name": "stdout",
          "text": [
            "Enter a value: 2\n",
            "Integer Conversion: 2 (Type: <class 'int'>)\n",
            "Float Conversion: 2.0 (Type: <class 'float'>)\n",
            "Boolean Conversion: True (Type: <class 'bool'>)\n"
          ]
        }
      ]
    },
    {
      "cell_type": "code",
      "source": [
        "10. Write code to demonstrate type casting with list elements."
      ],
      "metadata": {
        "id": "4I7z7lG88M9W"
      },
      "execution_count": null,
      "outputs": []
    },
    {
      "cell_type": "code",
      "source": [
        "# Original list with mixed data types (strings, numbers)\n",
        "mixed_list = [\"10\", \"20.5\", \"30\", \"40.8\", \"50\"]\n",
        "\n",
        "# Convert all elements to integers (if possible)\n",
        "int_list = [int(float(item)) for item in mixed_list]\n",
        "print(\"Integer List:\", int_list)\n",
        "\n",
        "# Convert all elements to floats\n",
        "float_list = [float(item) for item in mixed_list]\n",
        "print(\"Float List:\", float_list)\n",
        "\n",
        "# Convert all elements to strings (though they are already strings)\n",
        "str_list = [str(item) for item in mixed_list]\n",
        "print(\"String List:\", str_list)\n"
      ],
      "metadata": {
        "colab": {
          "base_uri": "https://localhost:8080/"
        },
        "id": "9Wwv6zugCWyO",
        "outputId": "8ce10436-0890-412c-d080-515129f2d1b2"
      },
      "execution_count": 23,
      "outputs": [
        {
          "output_type": "stream",
          "name": "stdout",
          "text": [
            "Integer List: [10, 20, 30, 40, 50]\n",
            "Float List: [10.0, 20.5, 30.0, 40.8, 50.0]\n",
            "String List: ['10', '20.5', '30', '40.8', '50']\n"
          ]
        }
      ]
    },
    {
      "cell_type": "markdown",
      "source": [
        "11. Write a program that checks if a number is positive, negative, or zero."
      ],
      "metadata": {
        "id": "IVUKvmVKDRM_"
      }
    },
    {
      "cell_type": "code",
      "source": [
        "# Get user input\n",
        "num = float(input(\"Enter a number: \"))\n",
        "\n",
        "# Check if the number is positive, negative, or zero\n",
        "if num > 0:\n",
        "    print(\"The number is Positive.\")\n",
        "elif num < 0:\n",
        "    print(\"The number is Negative.\")\n",
        "else:\n",
        "    print(\"The number is Zero.\")"
      ],
      "metadata": {
        "colab": {
          "base_uri": "https://localhost:8080/"
        },
        "id": "50OD6q_nDTJ3",
        "outputId": "c111eb57-7b06-48c0-a704-0a86ce9dd170"
      },
      "execution_count": 24,
      "outputs": [
        {
          "output_type": "stream",
          "name": "stdout",
          "text": [
            "Enter a number: 23\n",
            "The number is Positive.\n"
          ]
        }
      ]
    },
    {
      "cell_type": "code",
      "source": [
        "# Get user input\n",
        "num = float(input(\"Enter a number: \"))\n",
        "\n",
        "# Check if the number is positive, negative, or zero\n",
        "if num > 0:\n",
        "    print(\"The number is Positive.\")\n",
        "elif num < 0:\n",
        "    print(\"The number is Negative.\")\n",
        "else:\n",
        "    print(\"The number is Zero.\")"
      ],
      "metadata": {
        "colab": {
          "base_uri": "https://localhost:8080/"
        },
        "id": "vL5ixv28DbPI",
        "outputId": "bf83f81f-b182-4039-a71c-ae4ed0073e32"
      },
      "execution_count": 25,
      "outputs": [
        {
          "output_type": "stream",
          "name": "stdout",
          "text": [
            "Enter a number: -33\n",
            "The number is Negative.\n"
          ]
        }
      ]
    },
    {
      "cell_type": "code",
      "source": [
        "# Get user input\n",
        "num = float(input(\"Enter a number: \"))\n",
        "\n",
        "# Check if the number is positive, negative, or zero\n",
        "if num > 0:\n",
        "    print(\"The number is Positive.\")\n",
        "elif num < 0:\n",
        "    print(\"The number is Negative.\")\n",
        "else:\n",
        "    print(\"The number is Zero.\")"
      ],
      "metadata": {
        "colab": {
          "base_uri": "https://localhost:8080/"
        },
        "id": "0W1fv6P1Db_G",
        "outputId": "2c07578e-054a-48a4-8dfe-d56aa4161029"
      },
      "execution_count": 26,
      "outputs": [
        {
          "output_type": "stream",
          "name": "stdout",
          "text": [
            "Enter a number: 0\n",
            "The number is Zero.\n"
          ]
        }
      ]
    },
    {
      "cell_type": "code",
      "source": [
        "11. Write a for loop to print numbers from 1 to 10\n"
      ],
      "metadata": {
        "id": "lWgkTieQDgT0"
      },
      "execution_count": null,
      "outputs": []
    },
    {
      "cell_type": "code",
      "source": [
        "# Using a for loop to print numbers from 1 to 10\n",
        "for num in range(1, 11):\n",
        "    print(num, end=\" \")"
      ],
      "metadata": {
        "colab": {
          "base_uri": "https://localhost:8080/"
        },
        "id": "Z4dmOggQDsFa",
        "outputId": "c9568147-74e2-4e0c-e54a-ad9a4af0c8e1"
      },
      "execution_count": 27,
      "outputs": [
        {
          "output_type": "stream",
          "name": "stdout",
          "text": [
            "1 2 3 4 5 6 7 8 9 10 "
          ]
        }
      ]
    },
    {
      "cell_type": "code",
      "source": [
        "12.  Write a Python program to find the sum of all even numbers between 1 and 50."
      ],
      "metadata": {
        "id": "7Oi84cJKEMTL"
      },
      "execution_count": null,
      "outputs": []
    },
    {
      "cell_type": "code",
      "source": [
        "# Initialize sum variable\n",
        "sum_even = 0\n",
        "\n",
        "# Loop through numbers from 1 to 50\n",
        "for num in range(1, 51):\n",
        "    if num % 2 == 0:  # Check if number is even\n",
        "        sum_even += num  # Add even number to sum\n",
        "\n",
        "# Print the result\n",
        "print(\"Sum of all even numbers between 1 and 50:\", sum_even)"
      ],
      "metadata": {
        "colab": {
          "base_uri": "https://localhost:8080/"
        },
        "id": "9uwaJfeEETXH",
        "outputId": "91c73444-3c4b-41a9-d9b8-09216a5eb531"
      },
      "execution_count": 28,
      "outputs": [
        {
          "output_type": "stream",
          "name": "stdout",
          "text": [
            "Sum of all even numbers between 1 and 50: 650\n"
          ]
        }
      ]
    },
    {
      "cell_type": "markdown",
      "source": [
        "13.  Write a program to reverse a string using a while loop."
      ],
      "metadata": {
        "id": "ZqJnVIFMFAyl"
      }
    },
    {
      "cell_type": "code",
      "source": [
        "# Get user input\n",
        "string = input(\"Enter a string: \")\n",
        "\n",
        "# Initialize variables\n",
        "reversed_string = \"\"\n",
        "index = len(string) - 1  # Start from the last character\n",
        "\n",
        "# Use while loop to reverse the string\n",
        "while index >= 0:\n",
        "    reversed_string += string[index]  # Append characters in reverse order\n",
        "    index -= 1  # Move to the previous character\n",
        "\n",
        "# Print the reversed string\n",
        "print(\"Reversed String:\", reversed_string)"
      ],
      "metadata": {
        "colab": {
          "base_uri": "https://localhost:8080/"
        },
        "id": "vBooxqCeFC7G",
        "outputId": "c02093be-fed3-4e34-f930-d2bb17f4c7e8"
      },
      "execution_count": 30,
      "outputs": [
        {
          "output_type": "stream",
          "name": "stdout",
          "text": [
            "Enter a string: 48\n",
            "Reversed String: 84\n"
          ]
        }
      ]
    },
    {
      "cell_type": "code",
      "source": [
        "15. Write a Python program to calculate the factorial of a number provided by the user using a while loop."
      ],
      "metadata": {
        "id": "HKWbmNs8FNVo"
      },
      "execution_count": null,
      "outputs": []
    },
    {
      "cell_type": "code",
      "source": [
        "# Get user input\n",
        "num = int(input(\"Enter a number: \"))\n",
        "\n",
        "# Initialize variables\n",
        "factorial = 1\n",
        "i = num\n",
        "\n",
        "# Use while loop to calculate factorial\n",
        "while i > 0:\n",
        "    factorial *= i  # Multiply current value\n",
        "    i -= 1  # Decrease counter\n",
        "\n",
        "# Print the result\n",
        "print(f\"Factorial of {num} is {factorial}\")\n"
      ],
      "metadata": {
        "colab": {
          "base_uri": "https://localhost:8080/"
        },
        "id": "YGd3LpDsFUUy",
        "outputId": "b751443f-d3da-4f7b-b400-60c0003b832d"
      },
      "execution_count": 31,
      "outputs": [
        {
          "output_type": "stream",
          "name": "stdout",
          "text": [
            "Enter a number: 11\n",
            "Factorial of 11 is 39916800\n"
          ]
        }
      ]
    }
  ]
}